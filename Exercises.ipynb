{
 "cells": [
  {
   "cell_type": "markdown",
   "metadata": {},
   "source": [
    "### Exercise 1"
   ]
  },
  {
   "cell_type": "markdown",
   "metadata": {},
   "source": [
    "Given an array of positive integers `nums`, return a list of all of the negative integers.<br>\n",
    "Ex. 1<br>\n",
    "nums = [1, 3, 5, 7, 8]<br>\n",
    "Expected Output: [-1, -3, -5, -7, -8]<br>\n",
    "\n",
    "Ex. 2<br>\n",
    "nums = [100, 534, 32, 15, 77, 222, 788, 345, 75645, 22]<br>\n",
    "Expected Output: [-100, -534, -32, -15, -77, -222, -788, -345, -75645, -22]<br>"
   ]
  },
  {
   "cell_type": "code",
   "execution_count": 1,
   "metadata": {},
   "outputs": [],
   "source": [
    "def inverse(nums):\n",
    "    '''\n",
    "    inverse takes in a list of numbers and returns the additive inverse elements\n",
    "    nums --> list[ints or floats]\n",
    "    returns a list[ints or floats]\n",
    "    '''\n",
    "    return [-i for i in nums]"
   ]
  },
  {
   "cell_type": "code",
   "execution_count": 2,
   "metadata": {},
   "outputs": [
    {
     "data": {
      "text/plain": [
       "[-1, -3, -5, -7, -8.5]"
      ]
     },
     "execution_count": 2,
     "metadata": {},
     "output_type": "execute_result"
    }
   ],
   "source": [
    "#testing if outputs match what we expect\n",
    "inverse([1, 3, 5, 7, 8.5])"
   ]
  },
  {
   "cell_type": "markdown",
   "metadata": {},
   "source": [
    "### Exercise 2"
   ]
  },
  {
   "cell_type": "markdown",
   "metadata": {},
   "source": [
    "Given a string, return a list of all of the digits in the string.<br>\n",
    "Ex. 1 <br>\n",
    "address = \"123 Real Street, Apt. 2, Springfield, OR 43498\"<br>\n",
    "Expected Output: ['1', '2', '3', '2', '4', '3', '4', '9', '8']<br>\n",
    "\n",
    "Ex. 2 <br>\n",
    "sentence = \"My phone number is (555) 555-4321\"<br>\n",
    "Expected Output: ['5', '5', '5', '5', '5', '5', '4', '3', '2', '1']<br>"
   ]
  },
  {
   "cell_type": "code",
   "execution_count": 3,
   "metadata": {},
   "outputs": [],
   "source": [
    "# Hint: Look at the string methods! -- help(str)\n",
    "def extract_digits(string):\n",
    "    '''\n",
    "    takes a string and extracts every digit as an element in a list\n",
    "    string --> str\n",
    "    return --> list of digit strings\n",
    "    '''\n",
    "    digits = []\n",
    "    for i in range(len(string)):\n",
    "        if string[i].isdigit():\n",
    "            digits.append(string[i])\n",
    "    return digits"
   ]
  },
  {
   "cell_type": "code",
   "execution_count": 4,
   "metadata": {},
   "outputs": [
    {
     "name": "stdout",
     "output_type": "stream",
     "text": [
      "['1', '2', '3', '2', '4', '3', '4', '9', '8']\n",
      "['5', '5', '5', '5', '5', '5', '4', '3', '2', '1']\n"
     ]
    }
   ],
   "source": [
    "#testing if outputs match what we expect\n",
    "print(extract_digits(\"123 Real Street, Apt. 2, Springfield, OR 43498\"))\n",
    "print(extract_digits(\"My phone number is (555) 555-4321\"))"
   ]
  },
  {
   "cell_type": "markdown",
   "metadata": {},
   "source": [
    "### Exercise 3"
   ]
  },
  {
   "cell_type": "markdown",
   "metadata": {},
   "source": [
    "Given a string `digits`, return a **string** of the digits + 1<br>\n",
    "\n",
    "Ex. 1<br>\n",
    "digits = '123'<br>\n",
    "Expected Output: '124'<br>\n",
    "\n",
    "Ex. 2<br>\n",
    "digits = '99'<br>\n",
    "Expected Output: '100'<br>"
   ]
  },
  {
   "cell_type": "code",
   "execution_count": 5,
   "metadata": {},
   "outputs": [],
   "source": [
    "# Trying to extract digits as helper function using list comprehension\n",
    "\n",
    "def extract_digits2(string):\n",
    "    '''\n",
    "    takes a string and extracts every digit as an element in a list\n",
    "    string --> str\n",
    "    return --> list of digit strings\n",
    "    '''\n",
    "    return \"\".join([digit for digit in string if digit.isdigit() or digit == '.'])"
   ]
  },
  {
   "cell_type": "code",
   "execution_count": 6,
   "metadata": {},
   "outputs": [],
   "source": [
    "\n",
    "\n",
    "def num_str_inc(num_string):\n",
    "    '''\n",
    "    takes a string and extracts the numeric values within and increments by 1\n",
    "    num_string -> str\n",
    "    returns a string of purely numeric values (int or float)\n",
    "    '''\n",
    "    num_string = extract_digits2(num_string)\n",
    "    if num_string.isdigit():\n",
    "        return str(int(num_string) + 1)\n",
    "    return str(float(num_string) + 1)\n"
   ]
  },
  {
   "cell_type": "code",
   "execution_count": 7,
   "metadata": {},
   "outputs": [
    {
     "name": "stdout",
     "output_type": "stream",
     "text": [
      "13\n",
      "3.5\n",
      "3\n"
     ]
    }
   ],
   "source": [
    "print(num_str_inc('12'))\n",
    "print(num_str_inc('2.5')) # can handle floats\n",
    "print(num_str_inc('2this is wild')) # case of having non-numeric characters"
   ]
  }
 ],
 "metadata": {
  "kernelspec": {
   "display_name": "Python 3 (ipykernel)",
   "language": "python",
   "name": "python3"
  },
  "language_info": {
   "codemirror_mode": {
    "name": "ipython",
    "version": 3
   },
   "file_extension": ".py",
   "mimetype": "text/x-python",
   "name": "python",
   "nbconvert_exporter": "python",
   "pygments_lexer": "ipython3",
   "version": "3.11.5"
  }
 },
 "nbformat": 4,
 "nbformat_minor": 4
}
